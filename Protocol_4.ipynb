{
 "cells": [
  {
   "cell_type": "markdown",
   "metadata": {},
   "source": [
    "We will load and authenticate yourself on the CGC API. The authentication token is used to identify you on the CGC platform and requires registration. You can use the user console (top right corner) to get the authentication code by entering the Developer Panel within the CGC account."
   ]
  },
  {
   "cell_type": "code",
   "execution_count": null,
   "metadata": {
    "collapsed": true
   },
   "outputs": [],
   "source": [
    "import sevenbridges as sbg"
   ]
  },
  {
   "cell_type": "code",
   "execution_count": null,
   "metadata": {
    "collapsed": true
   },
   "outputs": [],
   "source": [
    "api = sbg.Api(url='https://cgc-api.sbgenomics.com/v2', token='MY AUTH TOKEN')"
   ]
  },
  {
   "cell_type": "markdown",
   "metadata": {},
   "source": [
    "In the next step, we will load In order to transfer data between the user’s S3 bucket and the CGC platform, the API uses volumes that behave similarly to mounted hard drives within a laptop. Volumes can be read only or read-write. In order to create volumes, the user will have to provide the AWS authentication code once the policy generator is applied to the user’s AWS console.\n"
   ]
  },
  {
   "cell_type": "code",
   "execution_count": null,
   "metadata": {
    "collapsed": true
   },
   "outputs": [],
   "source": [
    "volume_import = api.volumes.create_s3_volume(name='my_import_volume', bucket='bucket-name',access_key_id='XXXXXXXXX',secret_access_key = 'XXXXX',access_mode='RO')\n"
   ]
  },
  {
   "cell_type": "code",
   "execution_count": null,
   "metadata": {},
   "outputs": [],
   "source": [
    "volume_export = api.volumes.create_s3_volume(name='my_export_volume', bucket='bucket-name',access_key_id='XXXXXXXXX',secret_access_key = 'XXXXXXXXXX',access_mode='RW')"
   ]
  },
  {
   "cell_type": "markdown",
   "metadata": {},
   "source": [
    "Once the volumes are created, the files can be imported from the AWS bucket to the platform. For this, you will have to create a project on the CGC."
   ]
  },
  {
   "cell_type": "code",
   "execution_count": null,
   "metadata": {},
   "outputs": [],
   "source": [
    "new_project_name = 'Protocol 4'                          \n",
    "billing_groups = api.billing_groups.query()  \n",
    "print((billing_groups[0].name + \\\n",
    "       ' will be charged for computation and storage (if applicable) for your new project'))\n",
    "new_project = {\n",
    "        'billing_group': billing_groups[0].id,\n",
    "        'name': new_project_name\n",
    "}\n",
    "\n",
    "my_project = api.projects.create(name = new_project['name'], \\\n",
    "                  billing_group = new_project['billing_group'])\n",
    "my_project = [p for p in api.projects.query(limit=100).all() \\\n",
    "              if p.name == new_project_name][0]\n",
    "    \n"
   ]
  },
  {
   "cell_type": "markdown",
   "metadata": {},
   "source": [
    "Now, we can import each file from the AWS bucket to the platform. In this case, we will import the files based on their location within the bucket.\n"
   ]
  },
  {
   "cell_type": "code",
   "execution_count": null,
   "metadata": {},
   "outputs": [],
   "source": [
    "file_list = ['TCRBOA1-T-WEX.bam',\n",
    "             'TCRBOA1-N-WEX.bam']\n",
    "# Loop through selected files, start one job for each.\n",
    "for f_name in file_list:\n",
    "\timport_job = api.imports.submit_import(volume=volume_import,\n",
    "                                           project=my_project,\n",
    "                                           location=f_name)\n",
    "    \n",
    "\tprint(\"File {} is in state {} \\n\"\n",
    "          .format(f_name, import_job.reload().state))\n"
   ]
  },
  {
   "cell_type": "markdown",
   "metadata": {},
   "source": [
    "The tumor-normal bam file can be analyzed for somatic variants based upon the VarScan2 workflow. The VarScan2 workflow is available within the CGC as a public app. The CGC has more than 240 popularly used tools and workflows currently. We are now ready to copy the public workflow for somatic variant calling using VarScan2 on to this project."
   ]
  },
  {
   "cell_type": "code",
   "execution_count": null,
   "metadata": {},
   "outputs": [],
   "source": [
    "app_name = 'VarScan2 Workflow from BAM'\n",
    "public_app = [a for a in api.apps.query(visibility='public', limit=100).all() \\\n",
    "                             if a.name == app_name][0]\n",
    "new_app = public_app.copy(project = my_project.id)\n",
    "my_app = [a for a in api.apps.query(project = my_project.id, limit=100).all() \n",
    "          if a.name == app_name][0]"
   ]
  },
  {
   "cell_type": "markdown",
   "metadata": {},
   "source": [
    "VarScan2 also requires a reference file in addition to the tumor-normal bam file. We will use the hg19 reference file within the public files as the reference file for this task. The public reference files contain a number of typically used reference files and some example files for user testing purposes.\n"
   ]
  },
  {
   "cell_type": "code",
   "execution_count": null,
   "metadata": {},
   "outputs": [],
   "source": [
    "f_name = 'human_g1k_v37_decoy.fasta'\n",
    "source_project_id = 'admin/sbg-public-data'\n",
    "source_file = [f for f in api.files.query(limit = 100, project = source_project_id).all()\n",
    "               if f.name == f_name][0]\n",
    "my_new_file = source_file.copy(project = my_project.id,\n",
    "                               name = source_file.name)"
   ]
  },
  {
   "cell_type": "markdown",
   "metadata": {},
   "source": [
    "Now, we can start a task with the appropriate inputs. The input ports for these files are Tumor_BAM, Normal_BAM, and input_fasta_file. These input ports have to be set to the corresponding file in this project before the task can be started.\n"
   ]
  },
  {
   "cell_type": "code",
   "execution_count": null,
   "metadata": {},
   "outputs": [],
   "source": [
    "inputs = {}\n",
    "inputs['input_fasta_file'] = my_new_file\n",
    "all_files = list(api.files.query(project=my_project.id, limit=100).all())\n",
    "tumor_bam_file = [curr_file for curr_file in all_files \n",
    "                  if curr_file.name =='TCRBOA1-T-WEX.bam'][0]\n",
    "normal_bam_file = [curr_file for curr_file in all_files \n",
    "                   if curr_file.name =='TCRBOA1-N-WEX.bam'][0] \n",
    "inputs['Tumor_BAM'] = tumor_bam_file\n",
    "inputs['Normal_BAM'] = normal_bam_file\n",
    "task_name = 'VarScan2 with volumes API'\n",
    "\n",
    "my_task = api.tasks.create(name=task_name, \n",
    "                           project=my_project.id, \n",
    "                           app=my_app.id, \n",
    "                           inputs=inputs,\n",
    "                           run=True)\n"
   ]
  },
  {
   "cell_type": "markdown",
   "metadata": {},
   "source": [
    "The API can then be used to check the status of the task every 30 seconds. As soon as the task completes, the API will come out of the loop.\n"
   ]
  },
  {
   "cell_type": "code",
   "execution_count": null,
   "metadata": {},
   "outputs": [],
   "source": [
    "details = my_task.get_execution_details()\n",
    "print('Your task is in %s status' % (details.status))\n",
    "loop_time = 30\n",
    "flag = {'taskRunning': True}\n",
    "\n",
    "while flag['taskRunning']:\n",
    "    details = my_task.get_execution_details()\n",
    "    print('Task is still running.')\n",
    "    if details.status == 'COMPLETED':\n",
    "        flag['taskRunning'] = False\n",
    "        print('Task has completed, life is beautiful')\n",
    "    elif details.status  == 'FAILED':  \n",
    "        print('Task failed, can not continue')\n",
    "        raise KeyboardInterrupt\n",
    "    else:\n",
    "        sleep(loop_time)"
   ]
  },
  {
   "cell_type": "markdown",
   "metadata": {},
   "source": [
    "Once the task completes, the output files of the task can be exported to the volume. Before doing that, an export volume has to be created."
   ]
  },
  {
   "cell_type": "code",
   "execution_count": null,
   "metadata": {},
   "outputs": [],
   "source": [
    "exports = []\n",
    "my_task = api.tasks.get(id=my_task.id)\n",
    "for curr_output in my_task.outputs:\n",
    "    f = my_task.outputs[curr_output]\n",
    "    export = api.exports.submit_export(file=f,\n",
    "                                       volume=volume_export,\n",
    "                                       location=f.name)\n",
    "    exports.append(export)\n",
    "\n",
    "for j in exports:\n",
    "    print('File {} export stated {}; it is {}'\n",
    "          .format(j.destination, j.started_on, j.state))\n",
    "    print('\\n')\n"
   ]
  }
 ],
 "metadata": {
  "kernelspec": {
   "display_name": "Python 3",
   "language": "python",
   "name": "python3"
  },
  "language_info": {
   "codemirror_mode": {
    "name": "ipython",
    "version": 3
   },
   "file_extension": ".py",
   "mimetype": "text/x-python",
   "name": "python",
   "nbconvert_exporter": "python",
   "pygments_lexer": "ipython3",
   "version": "3.5.2"
  }
 },
 "nbformat": 4,
 "nbformat_minor": 2
}
